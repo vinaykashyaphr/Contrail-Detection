{
 "cells": [
  {
   "cell_type": "code",
   "execution_count": 1,
   "id": "412670cc",
   "metadata": {
    "execution": {
     "iopub.execute_input": "2023-08-09T23:59:04.711872Z",
     "iopub.status.busy": "2023-08-09T23:59:04.711490Z",
     "iopub.status.idle": "2023-08-09T23:59:19.919854Z",
     "shell.execute_reply": "2023-08-09T23:59:19.918868Z"
    },
    "papermill": {
     "duration": 15.217283,
     "end_time": "2023-08-09T23:59:19.922438",
     "exception": false,
     "start_time": "2023-08-09T23:59:04.705155",
     "status": "completed"
    },
    "tags": []
   },
   "outputs": [],
   "source": [
    "import warnings\n",
    "warnings.filterwarnings(\"ignore\")\n",
    "\n",
    "import gc\n",
    "import timm\n",
    "import os\n",
    "import glob\n",
    "\n",
    "import numpy as np\n",
    "import pandas as pd\n",
    "\n",
    "import torch\n",
    "from torch import nn\n",
    "from torch.utils.data import Dataset, DataLoader\n",
    "\n",
    "import pytorch_lightning as pl\n",
    "import torchvision.transforms as T\n",
    "import yaml"
   ]
  },
  {
   "cell_type": "code",
   "execution_count": 2,
   "id": "070b0fa8",
   "metadata": {
    "execution": {
     "iopub.execute_input": "2023-08-09T23:59:19.935038Z",
     "iopub.status.busy": "2023-08-09T23:59:19.932990Z",
     "iopub.status.idle": "2023-08-09T23:59:26.202955Z",
     "shell.execute_reply": "2023-08-09T23:59:26.201813Z"
    },
    "papermill": {
     "duration": 6.277774,
     "end_time": "2023-08-09T23:59:26.205074",
     "exception": false,
     "start_time": "2023-08-09T23:59:19.927300",
     "status": "completed"
    },
    "tags": []
   },
   "outputs": [
    {
     "data": {
      "text/plain": [
       "['refs', 'blobs', 'snapshots']"
      ]
     },
     "execution_count": 2,
     "metadata": {},
     "output_type": "execute_result"
    }
   ],
   "source": [
    "import shutil\n",
    "import os\n",
    "\n",
    "!mkdir -p /root/.cache/huggingface/hub\n",
    "\n",
    "try:\n",
    "    shutil.copytree('/kaggle/input/preresnet/resnest101e/models--timm--resnest101e.in1k', '/root/.cache/huggingface/hub/models--timm--resnest101e.in1k')\n",
    "\n",
    "except FileExistsError:\n",
    "    pass\n",
    "\n",
    "os.listdir('/root/.cache/huggingface/hub/models--timm--resnest101e.in1k')\n",
    "\n",
    "# src = pathlib.Path(r\"preresnet/resnet101e\").as_posix()\n",
    "# shutil.copytree(src, \"/root/.cache/huggingface/hub\")"
   ]
  },
  {
   "cell_type": "code",
   "execution_count": 3,
   "id": "0fa188bc",
   "metadata": {
    "execution": {
     "iopub.execute_input": "2023-08-09T23:59:26.216565Z",
     "iopub.status.busy": "2023-08-09T23:59:26.215691Z",
     "iopub.status.idle": "2023-08-09T23:59:26.250602Z",
     "shell.execute_reply": "2023-08-09T23:59:26.249710Z"
    },
    "papermill": {
     "duration": 0.042866,
     "end_time": "2023-08-09T23:59:26.252764",
     "exception": false,
     "start_time": "2023-08-09T23:59:26.209898",
     "status": "completed"
    },
    "tags": []
   },
   "outputs": [],
   "source": [
    "import yaml\n",
    "\n",
    "batch_size = 32\n",
    "num_workers = 1\n",
    "THR = 0.5\n",
    "\n",
    "device = torch.device('cuda' if torch.cuda.is_available() else 'cpu')\n",
    "data = '/kaggle/input/google-research-identify-contrails-reduce-global-warming'\n",
    "data_root = '/kaggle/input/google-research-identify-contrails-reduce-global-warming/test/'\n",
    "submission = pd.read_csv(os.path.join(data, 'sample_submission.csv'), index_col='record_id')"
   ]
  },
  {
   "cell_type": "code",
   "execution_count": 4,
   "id": "13c8a393",
   "metadata": {
    "execution": {
     "iopub.execute_input": "2023-08-09T23:59:26.263951Z",
     "iopub.status.busy": "2023-08-09T23:59:26.263084Z",
     "iopub.status.idle": "2023-08-09T23:59:26.272892Z",
     "shell.execute_reply": "2023-08-09T23:59:26.272000Z"
    },
    "papermill": {
     "duration": 0.017709,
     "end_time": "2023-08-09T23:59:26.275177",
     "exception": false,
     "start_time": "2023-08-09T23:59:26.257468",
     "status": "completed"
    },
    "tags": []
   },
   "outputs": [],
   "source": [
    "filenames = os.listdir(data_root)\n",
    "test_df = pd.DataFrame(filenames, columns=['record_id'])\n",
    "test_df['path'] = data_root + test_df['record_id'].astype(str)"
   ]
  },
  {
   "cell_type": "code",
   "execution_count": 5,
   "id": "5c1997ff",
   "metadata": {
    "execution": {
     "iopub.execute_input": "2023-08-09T23:59:26.285715Z",
     "iopub.status.busy": "2023-08-09T23:59:26.285429Z",
     "iopub.status.idle": "2023-08-09T23:59:26.299784Z",
     "shell.execute_reply": "2023-08-09T23:59:26.298885Z"
    },
    "papermill": {
     "duration": 0.022031,
     "end_time": "2023-08-09T23:59:26.301746",
     "exception": false,
     "start_time": "2023-08-09T23:59:26.279715",
     "status": "completed"
    },
    "tags": []
   },
   "outputs": [],
   "source": [
    "class ContrailsDataset(torch.utils.data.Dataset):\n",
    "\n",
    "    def __init__(self, df, image_size=256, train=True):\n",
    "        \n",
    "        self.df = df\n",
    "        self.trn = train\n",
    "        self.df_idx: pd.DataFrame = pd.DataFrame({'idx': os.listdir(f'/kaggle/input/google-research-identify-contrails-reduce-global-warming/test')})\n",
    "        self.normalize_image = T.Normalize((0.485, 0.456, 0.406), (0.229, 0.224, 0.225))\n",
    "        self.image_size = image_size\n",
    "        if image_size != 256:\n",
    "            self.resize_image = T.transforms.Resize(image_size)\n",
    "    \n",
    "    def read_record(self, directory):\n",
    "        record_data = {}\n",
    "        for x in [\n",
    "            \"band_11\", \n",
    "            \"band_14\", \n",
    "            \"band_15\"\n",
    "        ]:\n",
    "\n",
    "            record_data[x] = np.load(os.path.join(directory, x + \".npy\"))\n",
    "\n",
    "        return record_data\n",
    "\n",
    "    def normalize_range(self, data, bounds):\n",
    "        return (data - bounds[0]) / (bounds[1] - bounds[0])\n",
    "    \n",
    "    def get_false_color(self, record_data):\n",
    "        _T11_BOUNDS = (243, 303)\n",
    "        _CLOUD_TOP_TDIFF_BOUNDS = (-4, 5)\n",
    "        _TDIFF_BOUNDS = (-4, 2)\n",
    "        \n",
    "        N_TIMES_BEFORE = 4\n",
    "\n",
    "        r = self.normalize_range(record_data[\"band_15\"] - record_data[\"band_14\"], _TDIFF_BOUNDS)\n",
    "        g = self.normalize_range(record_data[\"band_14\"] - record_data[\"band_11\"], _CLOUD_TOP_TDIFF_BOUNDS)\n",
    "        b = self.normalize_range(record_data[\"band_14\"], _T11_BOUNDS)\n",
    "\n",
    "        false_color = np.clip(np.stack([r, g, b], axis=2), 0, 1)\n",
    "        img = false_color[..., N_TIMES_BEFORE]\n",
    "\n",
    "        return img\n",
    "    \n",
    "    def __getitem__(self, index):\n",
    "        row = self.df.iloc[index]\n",
    "        con_path = row.path\n",
    "        data = self.read_record(con_path)    \n",
    "        \n",
    "        img = self.get_false_color(data)\n",
    "        \n",
    "        img = torch.tensor(np.reshape(img, (256, 256, 3))).to(torch.float32).permute(2, 0, 1)\n",
    "        \n",
    "        if self.image_size != 256:\n",
    "            img = self.resize_image(img)\n",
    "        \n",
    "        img = self.normalize_image(img)\n",
    "        \n",
    "        image_id = int(self.df_idx.iloc[index]['idx'])\n",
    "            \n",
    "        return img.float(), torch.tensor(image_id)\n",
    "    \n",
    "    def __len__(self):\n",
    "        return len(self.df)"
   ]
  },
  {
   "cell_type": "code",
   "execution_count": 6,
   "id": "6f6bedb2",
   "metadata": {
    "execution": {
     "iopub.execute_input": "2023-08-09T23:59:26.312793Z",
     "iopub.status.busy": "2023-08-09T23:59:26.312491Z",
     "iopub.status.idle": "2023-08-09T23:59:26.319246Z",
     "shell.execute_reply": "2023-08-09T23:59:26.318169Z"
    },
    "papermill": {
     "duration": 0.015149,
     "end_time": "2023-08-09T23:59:26.321607",
     "exception": false,
     "start_time": "2023-08-09T23:59:26.306458",
     "status": "completed"
    },
    "tags": []
   },
   "outputs": [],
   "source": [
    "def rle_encode(x, fg_val=1):\n",
    "    dots = np.where(\n",
    "        x.T.flatten() == fg_val)[0]\n",
    "    run_lengths = []\n",
    "    prev = -2\n",
    "    for b in dots:\n",
    "        if b > prev + 1:\n",
    "            run_lengths.extend((b + 1, 0))\n",
    "        run_lengths[-1] += 1\n",
    "        prev = b\n",
    "    return run_lengths\n",
    "\n",
    "def list_to_string(x):\n",
    "\n",
    "    if x:\n",
    "        s = str(x).replace(\"[\", \"\").replace(\"]\", \"\").replace(\",\", \"\")\n",
    "    else:\n",
    "        s = '-'\n",
    "    return s"
   ]
  },
  {
   "cell_type": "code",
   "execution_count": 7,
   "id": "bfe3df62",
   "metadata": {
    "execution": {
     "iopub.execute_input": "2023-08-09T23:59:26.332779Z",
     "iopub.status.busy": "2023-08-09T23:59:26.332176Z",
     "iopub.status.idle": "2023-08-09T23:59:26.356707Z",
     "shell.execute_reply": "2023-08-09T23:59:26.355762Z"
    },
    "papermill": {
     "duration": 0.032474,
     "end_time": "2023-08-09T23:59:26.358814",
     "exception": false,
     "start_time": "2023-08-09T23:59:26.326340",
     "status": "completed"
    },
    "tags": []
   },
   "outputs": [],
   "source": [
    "class EncoderModule(nn.Module):\n",
    "    def __init__(self):\n",
    "        super(EncoderModule, self).__init__()\n",
    "        self.encoder = timm.create_model('resnest101e', pretrained=True)\n",
    "        self.stages =  nn.ModuleList([\n",
    "            nn.Identity(),\n",
    "            nn.Sequential(self.encoder.conv1, self.encoder.bn1, self.encoder.act1),\n",
    "            nn.Sequential(self.encoder.maxpool, self.encoder.layer1),\n",
    "            self.encoder.layer2,\n",
    "            self.encoder.layer3,\n",
    "            self.encoder.layer4,\n",
    "        ])\n",
    "\n",
    "    def forward(self, x):\n",
    "        features = []\n",
    "        for feature in self.stages:\n",
    "            x = feature(x)\n",
    "            features.append(x)\n",
    "        return features\n",
    "\n",
    "\n",
    "class UnetModule(nn.Module):\n",
    "    def __init__(self, upmapping=\"upconv\"):\n",
    "        super(UnetModule, self).__init__()\n",
    "        self.upmapping = upmapping\n",
    "        self.encoder = EncoderModule()\n",
    "        self.dec_in_c = [2048, 256, 128, 64, 32]\n",
    "        self.dec_out_c = [256, 128, 64, 32, 16]\n",
    "        self.skip_c = [1024, 512, 256, 128, 0]\n",
    "\n",
    "        self.module_list = nn.ModuleList()\n",
    "        for i in range(len(self.dec_in_c)):\n",
    "            if upmapping == 'upsample':\n",
    "                act_channels = self.dec_in_c[i]\n",
    "            else:\n",
    "                act_channels = self.dec_in_c[i]//2\n",
    "            self.module_list.append(nn.ModuleList(\n",
    "                [self.expanding_unit(self.dec_in_c[i], self.dec_in_c[i]//2, 2, 0),\n",
    "                self.base_unit(act_channels + self.skip_c[i], self.dec_out_c[i], 3, 1)]))\n",
    "\n",
    "        self.final_conv = nn.Conv2d(self.dec_out_c[-1], 1, kernel_size=1)\n",
    "\n",
    "    def base_unit(self, in_c, out_c, f, p):\n",
    "        return nn.Sequential(\n",
    "            nn.Dropout(0.3),\n",
    "            nn.Conv2d(in_c, out_c, kernel_size=f, padding=p),\n",
    "            nn.BatchNorm2d(out_c),\n",
    "            nn.LeakyReLU(),\n",
    "            nn.Dropout(0.3),\n",
    "            nn.Conv2d(out_c, out_c, kernel_size=f, padding=p),\n",
    "            nn.BatchNorm2d(out_c),\n",
    "            nn.LeakyReLU()\n",
    "        )\n",
    "\n",
    "    def expanding_unit(self, in_c, out_c, f, p):\n",
    "        if self.upmapping == 'upsample':\n",
    "            return nn.Upsample(scale_factor=2, mode='nearest')\n",
    "        else:\n",
    "            return nn.Sequential(\n",
    "                nn.ConvTranspose2d(in_c, out_c, f, padding=p, stride=2),\n",
    "                nn.BatchNorm2d(out_c),\n",
    "                nn.LeakyReLU(),\n",
    "                nn.ConvTranspose2d(out_c, out_c, 1, stride=1, padding=0),\n",
    "                nn.BatchNorm2d(out_c),\n",
    "                nn.LeakyReLU()\n",
    "            )\n",
    "\n",
    "\n",
    "    def center_crop(self, encoder_out, decoder_out):\n",
    "        crop_dims = ((encoder_out.size(2) - decoder_out.size(2))//2,\n",
    "                    (encoder_out.size(3) - decoder_out.size(3))//2)\n",
    "        cropped_encoder_out = encoder_out[:, :,\n",
    "                    crop_dims[0]:crop_dims[0] + decoder_out.size(2),\n",
    "                    crop_dims[1]: crop_dims[1] + decoder_out.size(3)]\n",
    "        return cropped_encoder_out\n",
    "\n",
    "\n",
    "    def forward(self, x):\n",
    "        encoder = self.encoder(x)\n",
    "        features, x = encoder[1:][:-1][::-1], encoder[1:][-1]\n",
    "        for i, module in enumerate(self.module_list):\n",
    "            x = module[0](x)\n",
    "            if i != len(self.module_list) - 1:\n",
    "                crop4 = self.center_crop(features[i], x)\n",
    "                x = torch.cat([x, crop4], 1)\n",
    "            x = module[1](x)\n",
    "        x = self.final_conv(x)\n",
    "        return x"
   ]
  },
  {
   "cell_type": "code",
   "execution_count": 8,
   "id": "a3870fb8",
   "metadata": {
    "execution": {
     "iopub.execute_input": "2023-08-09T23:59:26.369657Z",
     "iopub.status.busy": "2023-08-09T23:59:26.369376Z",
     "iopub.status.idle": "2023-08-09T23:59:26.374325Z",
     "shell.execute_reply": "2023-08-09T23:59:26.373287Z"
    },
    "papermill": {
     "duration": 0.013117,
     "end_time": "2023-08-09T23:59:26.376710",
     "exception": false,
     "start_time": "2023-08-09T23:59:26.363593",
     "status": "completed"
    },
    "tags": []
   },
   "outputs": [],
   "source": [
    "class LightningModule(pl.LightningModule):\n",
    "\n",
    "    def __init__(self):\n",
    "        super().__init__()\n",
    "        self.model = UnetModule()\n",
    "\n",
    "    def forward(self, batch):\n",
    "        return self.model(batch)"
   ]
  },
  {
   "cell_type": "code",
   "execution_count": 9,
   "id": "3e0225e9",
   "metadata": {
    "execution": {
     "iopub.execute_input": "2023-08-09T23:59:26.386963Z",
     "iopub.status.busy": "2023-08-09T23:59:26.386676Z",
     "iopub.status.idle": "2023-08-09T23:59:26.391684Z",
     "shell.execute_reply": "2023-08-09T23:59:26.390850Z"
    },
    "papermill": {
     "duration": 0.012695,
     "end_time": "2023-08-09T23:59:26.393930",
     "exception": false,
     "start_time": "2023-08-09T23:59:26.381235",
     "status": "completed"
    },
    "tags": []
   },
   "outputs": [],
   "source": [
    "MODEL_PATH = \"/kaggle/input/model-3/\""
   ]
  },
  {
   "cell_type": "code",
   "execution_count": 10,
   "id": "ff8fc514",
   "metadata": {
    "execution": {
     "iopub.execute_input": "2023-08-09T23:59:26.405385Z",
     "iopub.status.busy": "2023-08-09T23:59:26.405040Z",
     "iopub.status.idle": "2023-08-09T23:59:26.422346Z",
     "shell.execute_reply": "2023-08-09T23:59:26.421034Z"
    },
    "papermill": {
     "duration": 0.027397,
     "end_time": "2023-08-09T23:59:26.425815",
     "exception": false,
     "start_time": "2023-08-09T23:59:26.398418",
     "status": "completed"
    },
    "tags": []
   },
   "outputs": [],
   "source": [
    "test_ds = ContrailsDataset(\n",
    "        test_df,\n",
    "        train = False\n",
    ")\n",
    " \n",
    "test_dl = DataLoader(test_ds, batch_size=batch_size, num_workers = num_workers)"
   ]
  },
  {
   "cell_type": "code",
   "execution_count": 11,
   "id": "9cebd828",
   "metadata": {
    "execution": {
     "iopub.execute_input": "2023-08-09T23:59:26.443960Z",
     "iopub.status.busy": "2023-08-09T23:59:26.443348Z",
     "iopub.status.idle": "2023-08-10T00:00:23.435030Z",
     "shell.execute_reply": "2023-08-10T00:00:23.433881Z"
    },
    "papermill": {
     "duration": 57.004481,
     "end_time": "2023-08-10T00:00:23.437782",
     "exception": false,
     "start_time": "2023-08-09T23:59:26.433301",
     "status": "completed"
    },
    "tags": []
   },
   "outputs": [
    {
     "name": "stdout",
     "output_type": "stream",
     "text": [
      "/kaggle/input/model-3/model_0_dice_score0.6291.ckpt\n"
     ]
    }
   ],
   "source": [
    "gc.enable()\n",
    "\n",
    "all_preds = {}\n",
    "\n",
    "for i, model_path in enumerate(glob.glob(MODEL_PATH + '*.ckpt')):\n",
    "    print(model_path)\n",
    "    model = LightningModule().load_from_checkpoint(model_path)\n",
    "    model.to(device)\n",
    "    model.eval()\n",
    "\n",
    "    model_preds = {}\n",
    "    \n",
    "    for _, data in enumerate(test_dl):\n",
    "        images, image_id = data\n",
    "    \n",
    "        images = images.to(device)\n",
    "\n",
    "        with torch.no_grad():\n",
    "            predicted_mask = model(images[:, :, :, :])\n",
    "\n",
    "        predicted_mask = torch.sigmoid(predicted_mask).cpu().detach().numpy()\n",
    "                \n",
    "        for img_num in range(0, images.shape[0]):\n",
    "            current_mask = predicted_mask[img_num, :, :, :]\n",
    "            current_image_id = image_id[img_num].item()\n",
    "            model_preds[current_image_id] = current_mask\n",
    "    all_preds[f\"f{i}\"] = model_preds\n",
    "    \n",
    "    del model    \n",
    "    torch.cuda.empty_cache()\n",
    "    gc.collect()"
   ]
  },
  {
   "cell_type": "code",
   "execution_count": 12,
   "id": "386c6b57",
   "metadata": {
    "execution": {
     "iopub.execute_input": "2023-08-10T00:00:23.451204Z",
     "iopub.status.busy": "2023-08-10T00:00:23.449642Z",
     "iopub.status.idle": "2023-08-10T00:00:23.462949Z",
     "shell.execute_reply": "2023-08-10T00:00:23.462025Z"
    },
    "papermill": {
     "duration": 0.021549,
     "end_time": "2023-08-10T00:00:23.465026",
     "exception": false,
     "start_time": "2023-08-10T00:00:23.443477",
     "status": "completed"
    },
    "tags": []
   },
   "outputs": [],
   "source": [
    "for index in submission.index.tolist():\n",
    "    \n",
    "    for i in range(len(glob.glob(MODEL_PATH + '*.ckpt'))):\n",
    "\n",
    "        if i == 0:\n",
    "            \n",
    "            predicted_mask = all_preds[f\"f{i}\"][index]\n",
    "            \n",
    "        else:\n",
    "            predicted_mask += all_preds[f\"f{i}\"][index]\n",
    "\n",
    "    predicted_mask = predicted_mask / len(glob.glob(MODEL_PATH + '*.ckpt'))\n",
    "    predicted_mask_with_threshold = np.zeros((256, 256))\n",
    "    predicted_mask_with_threshold[predicted_mask[0, :, :] < THR] = 0\n",
    "    predicted_mask_with_threshold[predicted_mask[0, :, :] > THR] = 1\n",
    "    submission.loc[int(index), 'encoded_pixels'] = list_to_string(rle_encode(predicted_mask_with_threshold))"
   ]
  },
  {
   "cell_type": "code",
   "execution_count": 13,
   "id": "901534fd",
   "metadata": {
    "execution": {
     "iopub.execute_input": "2023-08-10T00:00:23.475549Z",
     "iopub.status.busy": "2023-08-10T00:00:23.475259Z",
     "iopub.status.idle": "2023-08-10T00:00:23.488741Z",
     "shell.execute_reply": "2023-08-10T00:00:23.487878Z"
    },
    "papermill": {
     "duration": 0.021064,
     "end_time": "2023-08-10T00:00:23.490800",
     "exception": false,
     "start_time": "2023-08-10T00:00:23.469736",
     "status": "completed"
    },
    "tags": []
   },
   "outputs": [
    {
     "data": {
      "text/html": [
       "<div>\n",
       "<style scoped>\n",
       "    .dataframe tbody tr th:only-of-type {\n",
       "        vertical-align: middle;\n",
       "    }\n",
       "\n",
       "    .dataframe tbody tr th {\n",
       "        vertical-align: top;\n",
       "    }\n",
       "\n",
       "    .dataframe thead th {\n",
       "        text-align: right;\n",
       "    }\n",
       "</style>\n",
       "<table border=\"1\" class=\"dataframe\">\n",
       "  <thead>\n",
       "    <tr style=\"text-align: right;\">\n",
       "      <th></th>\n",
       "      <th>encoded_pixels</th>\n",
       "    </tr>\n",
       "    <tr>\n",
       "      <th>record_id</th>\n",
       "      <th></th>\n",
       "    </tr>\n",
       "  </thead>\n",
       "  <tbody>\n",
       "    <tr>\n",
       "      <th>1000834164244036115</th>\n",
       "      <td>40965 3 41222 4 41479 5 41737 5 41994 5 42253 ...</td>\n",
       "    </tr>\n",
       "    <tr>\n",
       "      <th>1002653297254493116</th>\n",
       "      <td>-</td>\n",
       "    </tr>\n",
       "  </tbody>\n",
       "</table>\n",
       "</div>"
      ],
      "text/plain": [
       "                                                        encoded_pixels\n",
       "record_id                                                             \n",
       "1000834164244036115  40965 3 41222 4 41479 5 41737 5 41994 5 42253 ...\n",
       "1002653297254493116                                                  -"
      ]
     },
     "execution_count": 13,
     "metadata": {},
     "output_type": "execute_result"
    }
   ],
   "source": [
    "submission"
   ]
  },
  {
   "cell_type": "code",
   "execution_count": 14,
   "id": "005135db",
   "metadata": {
    "execution": {
     "iopub.execute_input": "2023-08-10T00:00:23.501728Z",
     "iopub.status.busy": "2023-08-10T00:00:23.501438Z",
     "iopub.status.idle": "2023-08-10T00:00:23.507832Z",
     "shell.execute_reply": "2023-08-10T00:00:23.506974Z"
    },
    "papermill": {
     "duration": 0.014328,
     "end_time": "2023-08-10T00:00:23.509943",
     "exception": false,
     "start_time": "2023-08-10T00:00:23.495615",
     "status": "completed"
    },
    "tags": []
   },
   "outputs": [],
   "source": [
    "submission.to_csv('submission.csv')"
   ]
  }
 ],
 "metadata": {
  "kernelspec": {
   "display_name": "Python 3",
   "language": "python",
   "name": "python3"
  },
  "language_info": {
   "codemirror_mode": {
    "name": "ipython",
    "version": 3
   },
   "file_extension": ".py",
   "mimetype": "text/x-python",
   "name": "python",
   "nbconvert_exporter": "python",
   "pygments_lexer": "ipython3",
   "version": "3.10.12"
  },
  "papermill": {
   "default_parameters": {},
   "duration": 92.159142,
   "end_time": "2023-08-10T00:00:26.428112",
   "environment_variables": {},
   "exception": null,
   "input_path": "__notebook__.ipynb",
   "output_path": "__notebook__.ipynb",
   "parameters": {},
   "start_time": "2023-08-09T23:58:54.268970",
   "version": "2.4.0"
  }
 },
 "nbformat": 4,
 "nbformat_minor": 5
}
