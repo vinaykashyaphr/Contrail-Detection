{
 "cells": [
  {
   "cell_type": "code",
   "execution_count": 1,
   "metadata": {},
   "outputs": [],
   "source": [
    "import os\n",
    "import numpy as np\n",
    "from matplotlib import animation\n",
    "import matplotlib.pyplot as plt\n",
    "from IPython import display\n",
    "import json"
   ]
  },
  {
   "cell_type": "code",
   "execution_count": null,
   "metadata": {},
   "outputs": [],
   "source": [
    "with open(\"/content/paths.json\", \"r\") as hparams:\n",
    "    paths = json.load(hparams)"
   ]
  },
  {
   "cell_type": "code",
   "execution_count": null,
   "metadata": {},
   "outputs": [],
   "source": [
    "BASE_DIR = paths['image_data']\n",
    "N_TIMES_BEFORE = 4\n",
    "record_id = '1704010292581573769'\n",
    "\n",
    "with open(os.path.join(BASE_DIR, record_id, 'band_11.npy'), 'rb') as f:\n",
    "    band11 = np.load(f)\n",
    "with open(os.path.join(BASE_DIR, record_id, 'band_14.npy'), 'rb') as f:\n",
    "    band14 = np.load(f)\n",
    "with open(os.path.join(BASE_DIR, record_id, 'band_15.npy'), 'rb') as f:\n",
    "    band15 = np.load(f)\n",
    "with open(os.path.join(BASE_DIR, record_id, 'human_pixel_masks.npy'), 'rb') as f:\n",
    "    human_pixel_mask = np.load(f)\n",
    "with open(os.path.join(BASE_DIR, record_id, 'human_individual_masks.npy'), 'rb') as f:\n",
    "    human_individual_mask = np.load(f)"
   ]
  },
  {
   "cell_type": "code",
   "execution_count": null,
   "metadata": {},
   "outputs": [],
   "source": [
    "_T11_BOUNDS = (243, 303)\n",
    "_CLOUD_TOP_TDIFF_BOUNDS = (-4, 5)\n",
    "_TDIFF_BOUNDS = (-4, 2)\n",
    "\n",
    "def normalize_range(data, bounds):\n",
    "    \"\"\"Maps data to the range [0, 1].\"\"\"\n",
    "    return (data - bounds[0]) / (bounds[1] - bounds[0])\n",
    "\n",
    "r = normalize_range(band15 - band14, _TDIFF_BOUNDS)\n",
    "g = normalize_range(band14 - band11, _CLOUD_TOP_TDIFF_BOUNDS)\n",
    "b = normalize_range(band14, _T11_BOUNDS)\n",
    "false_color = np.clip(np.stack([r, g, b], axis=2), 0, 1)"
   ]
  },
  {
   "cell_type": "code",
   "execution_count": null,
   "metadata": {},
   "outputs": [],
   "source": [
    "img = false_color[..., N_TIMES_BEFORE]\n",
    "\n",
    "plt.figure(figsize=(18, 6))\n",
    "ax = plt.subplot(1, 3, 1)\n",
    "ax.imshow(img)\n",
    "ax.set_title('False color image')\n",
    "\n",
    "ax = plt.subplot(1, 3, 2)\n",
    "ax.imshow(human_pixel_mask, interpolation='none')\n",
    "ax.set_title('Ground truth contrail mask')\n",
    "\n",
    "ax = plt.subplot(1, 3, 3)\n",
    "ax.imshow(img)\n",
    "ax.imshow(human_pixel_mask, cmap='Reds', alpha=.4, interpolation='none')\n",
    "ax.set_title('Contrail mask on false color image')"
   ]
  },
  {
   "cell_type": "code",
   "execution_count": null,
   "metadata": {},
   "outputs": [],
   "source": [
    "# Individual human masks\n",
    "n = human_individual_mask.shape[-1]\n",
    "plt.figure(figsize=(16, 4))\n",
    "for i in range(n):\n",
    "    plt.subplot(1, n, i+1)\n",
    "    plt.imshow(human_individual_mask[..., i], interpolation='none')"
   ]
  },
  {
   "cell_type": "code",
   "execution_count": null,
   "metadata": {},
   "outputs": [],
   "source": [
    "# Animation\n",
    "fig = plt.figure(figsize=(6, 6))\n",
    "im = plt.imshow(false_color[..., 0])\n",
    "def draw(i):\n",
    "    im.set_array(false_color[..., i])\n",
    "    return [im]\n",
    "anim = animation.FuncAnimation(\n",
    "    fig, draw, frames=false_color.shape[-1], interval=500, blit=True\n",
    ")\n",
    "plt.close()\n",
    "display.HTML(anim.to_jshtml())"
   ]
  }
 ],
 "metadata": {
  "kernelspec": {
   "display_name": "Python 3",
   "language": "python",
   "name": "python3"
  },
  "language_info": {
   "codemirror_mode": {
    "name": "ipython",
    "version": 3
   },
   "file_extension": ".py",
   "mimetype": "text/x-python",
   "name": "python",
   "nbconvert_exporter": "python",
   "pygments_lexer": "ipython3",
   "version": "3.10.9"
  },
  "orig_nbformat": 4
 },
 "nbformat": 4,
 "nbformat_minor": 2
}
